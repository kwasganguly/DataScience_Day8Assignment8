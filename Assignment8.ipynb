{
 "cells": [
  {
   "cell_type": "markdown",
   "metadata": {},
   "source": [
    "1. How-to-count-distance-to-the-previous-zero\n",
    "For each value, count the difference of the distance from the previous zero (or the start\n",
    "of the Series, whichever is closer) and if there are no previous zeros,print the position\n",
    "Consider a DataFrame df where there is an integer column {'X':[7, 2, 0, 3, 4, 2, 5, 0, 3, 4]}\n",
    "The values should therefore be [1, 2, 0, 1, 2, 3, 4, 0, 1, 2]. Make this a new column 'Y'."
   ]
  },
  {
   "cell_type": "code",
   "execution_count": 12,
   "metadata": {},
   "outputs": [
    {
     "name": "stdout",
     "output_type": "stream",
     "text": [
      "0    1\n",
      "1    2\n",
      "2    0\n",
      "3    1\n",
      "4    2\n",
      "5    3\n",
      "6    4\n",
      "7    0\n",
      "8    1\n",
      "9    2\n",
      "Name: Y, dtype: int64\n"
     ]
    }
   ],
   "source": [
    "import pandas as pd\n",
    "import numpy as np\n",
    "\n",
    "df = pd.DataFrame({'X': [7, 2, 0, 3, 4, 2, 5, 0, 3, 4]})\n",
    "\n",
    "izero = np.r_[-1, (df['X'] == 0).nonzero()[0]] # indices of zeros\n",
    "idx = np.arange(len(df))\n",
    "df['Y'] = idx - izero[np.searchsorted(izero - 1, idx) - 1]\n",
    "\n",
    "print(df['Y'])\n",
    "\n"
   ]
  },
  {
   "cell_type": "markdown",
   "metadata": {},
   "source": [
    "2.Create a DatetimeIndex that contains each business day of 2015 and use it to index a\n",
    "Series of random numbers."
   ]
  },
  {
   "cell_type": "code",
   "execution_count": 18,
   "metadata": {},
   "outputs": [
    {
     "name": "stdout",
     "output_type": "stream",
     "text": [
      "DatetimeIndex(['2015-01-01', '2015-01-02', '2015-01-05', '2015-01-06',\n",
      "               '2015-01-07', '2015-01-08', '2015-01-09', '2015-01-12',\n",
      "               '2015-01-13', '2015-01-14',\n",
      "               ...\n",
      "               '2015-12-18', '2015-12-21', '2015-12-22', '2015-12-23',\n",
      "               '2015-12-24', '2015-12-25', '2015-12-28', '2015-12-29',\n",
      "               '2015-12-30', '2015-12-31'],\n",
      "              dtype='datetime64[ns]', length=261, freq='B')\n",
      "\n",
      "\n",
      "\n",
      "2015-01-01    0.042609\n",
      "2015-01-02    0.227894\n",
      "2015-01-05    0.183501\n",
      "2015-01-06    0.465329\n",
      "2015-01-07    0.619324\n",
      "2015-01-08    0.447350\n",
      "2015-01-09    0.891150\n",
      "2015-01-12    0.308425\n",
      "2015-01-13    0.512599\n",
      "2015-01-14    0.283741\n",
      "2015-01-15    0.994906\n",
      "2015-01-16    0.499222\n",
      "2015-01-19    0.157787\n",
      "2015-01-20    0.840959\n",
      "2015-01-21    0.737659\n",
      "2015-01-22    0.479975\n",
      "2015-01-23    0.871919\n",
      "2015-01-26    0.753884\n",
      "2015-01-27    0.612278\n",
      "2015-01-28    0.837635\n",
      "2015-01-29    0.763528\n",
      "2015-01-30    0.756167\n",
      "2015-02-02    0.515089\n",
      "2015-02-03    0.868190\n",
      "2015-02-04    0.671416\n",
      "2015-02-05    0.361831\n",
      "2015-02-06    0.502154\n",
      "2015-02-09    0.020088\n",
      "2015-02-10    0.510246\n",
      "2015-02-11    0.760829\n",
      "                ...   \n",
      "2015-11-20    0.432840\n",
      "2015-11-23    0.168333\n",
      "2015-11-24    0.286359\n",
      "2015-11-25    0.489019\n",
      "2015-11-26    0.539896\n",
      "2015-11-27    0.747440\n",
      "2015-11-30    0.106292\n",
      "2015-12-01    0.933239\n",
      "2015-12-02    0.985883\n",
      "2015-12-03    0.131353\n",
      "2015-12-04    0.974128\n",
      "2015-12-07    0.727470\n",
      "2015-12-08    0.400113\n",
      "2015-12-09    0.382045\n",
      "2015-12-10    0.119654\n",
      "2015-12-11    0.637704\n",
      "2015-12-14    0.766046\n",
      "2015-12-15    0.647473\n",
      "2015-12-16    0.709541\n",
      "2015-12-17    0.059130\n",
      "2015-12-18    0.264670\n",
      "2015-12-21    0.992626\n",
      "2015-12-22    0.947139\n",
      "2015-12-23    0.140952\n",
      "2015-12-24    0.333952\n",
      "2015-12-25    0.021110\n",
      "2015-12-28    0.191504\n",
      "2015-12-29    0.708658\n",
      "2015-12-30    0.398210\n",
      "2015-12-31    0.331776\n",
      "Freq: B, Length: 261, dtype: float64\n"
     ]
    }
   ],
   "source": [
    "import pandas as pd\n",
    "dti = pd.date_range(start='2015-01-01', end='2015-12-31', freq='B') \n",
    "print(dti)\n",
    "print('\\n\\n')\n",
    "\n",
    "#Index the series, s be the index\n",
    "s = pd.Series(np.random.rand(len(dti)), index=dti)\n",
    "print(s)"
   ]
  },
  {
   "cell_type": "markdown",
   "metadata": {},
   "source": [
    "3.Find the sum of the values in s for every Wednesday"
   ]
  },
  {
   "cell_type": "code",
   "execution_count": 19,
   "metadata": {},
   "outputs": [
    {
     "data": {
      "text/plain": [
       "26.285562048896843"
      ]
     },
     "execution_count": 19,
     "metadata": {},
     "output_type": "execute_result"
    }
   ],
   "source": [
    "s[dti.weekday == 2].sum() "
   ]
  },
  {
   "cell_type": "markdown",
   "metadata": {},
   "source": [
    "4.Average For each calendar month"
   ]
  },
  {
   "cell_type": "code",
   "execution_count": 21,
   "metadata": {},
   "outputs": [
    {
     "data": {
      "text/plain": [
       "2015-01-31    0.558538\n",
       "2015-02-28    0.516505\n",
       "2015-03-31    0.514909\n",
       "2015-04-30    0.518628\n",
       "2015-05-31    0.477426\n",
       "2015-06-30    0.602876\n",
       "2015-07-31    0.473335\n",
       "2015-08-31    0.494299\n",
       "2015-09-30    0.502728\n",
       "2015-10-31    0.541438\n",
       "2015-11-30    0.426172\n",
       "2015-12-31    0.513234\n",
       "Freq: M, dtype: float64"
      ]
     },
     "execution_count": 21,
     "metadata": {},
     "output_type": "execute_result"
    }
   ],
   "source": [
    "s.resample('M').mean()"
   ]
  },
  {
   "cell_type": "markdown",
   "metadata": {},
   "source": [
    "5.For each group of four consecutive calendar months in s, find the date on which the\n",
    "highest value occurred."
   ]
  },
  {
   "cell_type": "code",
   "execution_count": 24,
   "metadata": {},
   "outputs": [
    {
     "data": {
      "text/plain": [
       "2015-01-31   2015-01-15\n",
       "2015-05-31   2015-04-29\n",
       "2015-09-30   2015-06-16\n",
       "2016-01-31   2015-12-21\n",
       "dtype: datetime64[ns]"
      ]
     },
     "execution_count": 24,
     "metadata": {},
     "output_type": "execute_result"
    }
   ],
   "source": [
    "s.groupby(pd.Grouper(freq='4M')).idxmax()"
   ]
  }
 ],
 "metadata": {
  "kernelspec": {
   "display_name": "Python 3",
   "language": "python",
   "name": "python3"
  },
  "language_info": {
   "codemirror_mode": {
    "name": "ipython",
    "version": 3
   },
   "file_extension": ".py",
   "mimetype": "text/x-python",
   "name": "python",
   "nbconvert_exporter": "python",
   "pygments_lexer": "ipython3",
   "version": "3.6.4"
  }
 },
 "nbformat": 4,
 "nbformat_minor": 2
}
